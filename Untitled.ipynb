{
 "cells": [
  {
   "cell_type": "code",
   "execution_count": 20,
   "metadata": {},
   "outputs": [
    {
     "ename": "TypeError",
     "evalue": "__init__() got an unexpected keyword argument 'shuffle'",
     "output_type": "error",
     "traceback": [
      "\u001b[0;31m---------------------------------------------------------------------------\u001b[0m",
      "\u001b[0;31mTypeError\u001b[0m                                 Traceback (most recent call last)",
      "\u001b[0;32m<ipython-input-20-79ef912e60a2>\u001b[0m in \u001b[0;36m<module>\u001b[0;34m()\u001b[0m\n\u001b[1;32m     13\u001b[0m \u001b[0;34m\u001b[0m\u001b[0m\n\u001b[1;32m     14\u001b[0m \u001b[0;34m\u001b[0m\u001b[0m\n\u001b[0;32m---> 15\u001b[0;31m \u001b[0mdataset\u001b[0m \u001b[0;34m=\u001b[0m \u001b[0mBrainTumorDataset\u001b[0m\u001b[0;34m(\u001b[0m\u001b[0mdataset_path\u001b[0m\u001b[0;34m=\u001b[0m\u001b[0mdataset_path\u001b[0m\u001b[0;34m,\u001b[0m \u001b[0mpreprocessing\u001b[0m\u001b[0;34m=\u001b[0m\u001b[0mimage_preprocessing\u001b[0m\u001b[0;34m,\u001b[0m \u001b[0mshuffle\u001b[0m\u001b[0;34m=\u001b[0m\u001b[0;32mFalse\u001b[0m\u001b[0;34m)\u001b[0m\u001b[0;34m\u001b[0m\u001b[0;34m\u001b[0m\u001b[0m\n\u001b[0m\u001b[1;32m     16\u001b[0m \u001b[0;34m\u001b[0m\u001b[0m\n\u001b[1;32m     17\u001b[0m \u001b[0mmean\u001b[0m \u001b[0;34m=\u001b[0m \u001b[0mtorch\u001b[0m\u001b[0;34m.\u001b[0m\u001b[0mzeros_like\u001b[0m\u001b[0;34m(\u001b[0m\u001b[0mdataset\u001b[0m\u001b[0;34m[\u001b[0m\u001b[0;36m0\u001b[0m\u001b[0;34m]\u001b[0m\u001b[0;34m[\u001b[0m\u001b[0;36m0\u001b[0m\u001b[0;34m]\u001b[0m\u001b[0;34m)\u001b[0m\u001b[0;34m\u001b[0m\u001b[0;34m\u001b[0m\u001b[0m\n",
      "\u001b[0;31mTypeError\u001b[0m: __init__() got an unexpected keyword argument 'shuffle'"
     ]
    }
   ],
   "source": [
    "from data.bt_dataset import *\n",
    "import os\n",
    "from torchvision import transforms\n",
    "\n",
    "IMAGE_SIZE = 256\n",
    "\n",
    "image_preprocessing = transforms.Compose([\n",
    "                                        transforms.ToTensor(),\n",
    "                                        transforms.Resize((IMAGE_SIZE, IMAGE_SIZE)),\n",
    "                                        ])\n",
    "\n",
    "dataset_path = dataset_path = os.path.join(os.getcwd(), \"data\")\n",
    "\n",
    "\n",
    "dataset = BrainTumorDataset(dataset_path=dataset_path, preprocessing=image_preprocessing)\n",
    "\n",
    "mean = torch.zeros_like(dataset[0][0])\n",
    "\n",
    "for x, y, _ in dataset:\n",
    "    mean.add_(x)\n",
    "   "
   ]
  },
  {
   "cell_type": "code",
   "execution_count": 2,
   "metadata": {},
   "outputs": [],
   "source": [
    "N = len(dataset)\n",
    "\n",
    "m1 = torch.sum(mean[:,:,0]) / N\n",
    "m2 = torch.sum(mean[:,:,1]) / N\n",
    "m3 = torch.sum(mean[:,:,2]) / N\n",
    "\n",
    "means = (m1.item(), m2.item(), m3.item())"
   ]
  },
  {
   "cell_type": "code",
   "execution_count": 3,
   "metadata": {},
   "outputs": [],
   "source": [
    "std = torch.zeros_like(dataset[0][0])\n",
    "\n",
    "for x, y, _ in dataset:\n",
    "    std[:,:,0] += torch.square(x[:,:,0] - means[0])\n",
    "    std[:,:,1] += torch.square(x[:,:,1] - means[1])\n",
    "    std[:,:,2] += torch.square(x[:,:,2] - means[2])"
   ]
  },
  {
   "cell_type": "code",
   "execution_count": 4,
   "metadata": {},
   "outputs": [],
   "source": [
    "std /= N"
   ]
  },
  {
   "cell_type": "code",
   "execution_count": 5,
   "metadata": {},
   "outputs": [],
   "source": [
    "std = torch.sqrt(std)"
   ]
  },
  {
   "cell_type": "code",
   "execution_count": 6,
   "metadata": {},
   "outputs": [
    {
     "data": {
      "text/plain": [
       "torch.Size([3, 256, 256])"
      ]
     },
     "execution_count": 6,
     "metadata": {},
     "output_type": "execute_result"
    }
   ],
   "source": [
    "std.shape"
   ]
  },
  {
   "cell_type": "code",
   "execution_count": 7,
   "metadata": {},
   "outputs": [
    {
     "data": {
      "text/plain": [
       "tensor([[[11.3216,  9.7241, 10.0760,  ...,  0.0000,  0.0000,  0.0000],\n",
       "         [11.3238,  9.7271, 10.0794,  ...,  0.0000,  0.0000,  0.0000],\n",
       "         [11.3235,  9.7268, 10.0793,  ...,  0.0000,  0.0000,  0.0000],\n",
       "         ...,\n",
       "         [11.3215,  9.7243, 10.0766,  ...,  0.0000,  0.0000,  0.0000],\n",
       "         [11.3222,  9.7252, 10.0780,  ...,  0.0000,  0.0000,  0.0000],\n",
       "         [11.3204,  9.7230, 10.0756,  ...,  0.0000,  0.0000,  0.0000]],\n",
       "\n",
       "        [[11.3216,  9.7241, 10.0760,  ...,  0.0000,  0.0000,  0.0000],\n",
       "         [11.3238,  9.7271, 10.0794,  ...,  0.0000,  0.0000,  0.0000],\n",
       "         [11.3235,  9.7268, 10.0793,  ...,  0.0000,  0.0000,  0.0000],\n",
       "         ...,\n",
       "         [11.3215,  9.7243, 10.0766,  ...,  0.0000,  0.0000,  0.0000],\n",
       "         [11.3222,  9.7252, 10.0780,  ...,  0.0000,  0.0000,  0.0000],\n",
       "         [11.3204,  9.7230, 10.0756,  ...,  0.0000,  0.0000,  0.0000]],\n",
       "\n",
       "        [[11.3216,  9.7241, 10.0760,  ...,  0.0000,  0.0000,  0.0000],\n",
       "         [11.3238,  9.7271, 10.0794,  ...,  0.0000,  0.0000,  0.0000],\n",
       "         [11.3235,  9.7268, 10.0793,  ...,  0.0000,  0.0000,  0.0000],\n",
       "         ...,\n",
       "         [11.3215,  9.7243, 10.0766,  ...,  0.0000,  0.0000,  0.0000],\n",
       "         [11.3222,  9.7252, 10.0780,  ...,  0.0000,  0.0000,  0.0000],\n",
       "         [11.3204,  9.7230, 10.0756,  ...,  0.0000,  0.0000,  0.0000]]])"
      ]
     },
     "execution_count": 7,
     "metadata": {},
     "output_type": "execute_result"
    }
   ],
   "source": [
    "std"
   ]
  },
  {
   "cell_type": "code",
   "execution_count": 8,
   "metadata": {},
   "outputs": [
    {
     "data": {
      "text/plain": [
       "(11.33415412902832, 9.733967781066895, 10.085517883300781)"
      ]
     },
     "execution_count": 8,
     "metadata": {},
     "output_type": "execute_result"
    }
   ],
   "source": [
    "means"
   ]
  },
  {
   "cell_type": "code",
   "execution_count": 19,
   "metadata": {},
   "outputs": [
    {
     "ename": "TypeError",
     "evalue": "cat() received an invalid combination of arguments - got (Tensor, Tensor), but expected one of:\n * (tuple of Tensors tensors, int dim, *, Tensor out)\n * (tuple of Tensors tensors, name dim, *, Tensor out)\n",
     "output_type": "error",
     "traceback": [
      "\u001b[0;31m---------------------------------------------------------------------------\u001b[0m",
      "\u001b[0;31mTypeError\u001b[0m                                 Traceback (most recent call last)",
      "\u001b[0;32m<ipython-input-19-64a91a2252ce>\u001b[0m in \u001b[0;36m<module>\u001b[0;34m()\u001b[0m\n\u001b[1;32m      1\u001b[0m \u001b[0mms\u001b[0m \u001b[0;34m=\u001b[0m \u001b[0mtorch\u001b[0m\u001b[0;34m.\u001b[0m\u001b[0mempty_like\u001b[0m\u001b[0;34m(\u001b[0m\u001b[0mdataset\u001b[0m\u001b[0;34m[\u001b[0m\u001b[0;36m0\u001b[0m\u001b[0;34m]\u001b[0m\u001b[0;34m[\u001b[0m\u001b[0;36m0\u001b[0m\u001b[0;34m]\u001b[0m\u001b[0;34m)\u001b[0m\u001b[0;34m\u001b[0m\u001b[0;34m\u001b[0m\u001b[0m\n\u001b[1;32m      2\u001b[0m \u001b[0;32mfor\u001b[0m \u001b[0mx\u001b[0m\u001b[0;34m,\u001b[0m \u001b[0my\u001b[0m\u001b[0;34m,\u001b[0m \u001b[0m_\u001b[0m \u001b[0;32min\u001b[0m \u001b[0mdataset\u001b[0m\u001b[0;34m:\u001b[0m\u001b[0;34m\u001b[0m\u001b[0;34m\u001b[0m\u001b[0m\n\u001b[0;32m----> 3\u001b[0;31m     \u001b[0mms\u001b[0m \u001b[0;34m=\u001b[0m \u001b[0mtorch\u001b[0m\u001b[0;34m.\u001b[0m\u001b[0mcat\u001b[0m\u001b[0;34m(\u001b[0m\u001b[0mms\u001b[0m\u001b[0;34m,\u001b[0m \u001b[0mx\u001b[0m\u001b[0;34m)\u001b[0m\u001b[0;34m\u001b[0m\u001b[0;34m\u001b[0m\u001b[0m\n\u001b[0m\u001b[1;32m      4\u001b[0m \u001b[0;34m\u001b[0m\u001b[0m\n",
      "\u001b[0;31mTypeError\u001b[0m: cat() received an invalid combination of arguments - got (Tensor, Tensor), but expected one of:\n * (tuple of Tensors tensors, int dim, *, Tensor out)\n * (tuple of Tensors tensors, name dim, *, Tensor out)\n"
     ]
    }
   ],
   "source": [
    "ms = torch.empty_like(dataset[0][0])\n",
    "for x, y, _ in dataset:\n",
    "    ms = torch.cat(ms, x)\n",
    "    "
   ]
  },
  {
   "cell_type": "code",
   "execution_count": 23,
   "metadata": {},
   "outputs": [
    {
     "name": "stdout",
     "output_type": "stream",
     "text": [
      "mean: 0.1619841456413269\n",
      "std: 0.18015263974666595\n",
      "\n"
     ]
    }
   ],
   "source": [
    "mean = 0.\n",
    "meansq = 0.\n",
    "for data, _, _ in dataset:\n",
    "    mean = data.mean()\n",
    "    meansq = (data**2).mean()\n",
    "\n",
    "std = torch.sqrt(meansq - mean**2)\n",
    "print(\"mean: \" + str(mean.item()))\n",
    "print(\"std: \" + str(std.item()))\n",
    "print()"
   ]
  }
 ],
 "metadata": {
  "kernelspec": {
   "display_name": "pc_transformer",
   "language": "python",
   "name": "pc_transformer"
  },
  "language_info": {
   "codemirror_mode": {
    "name": "ipython",
    "version": 3
   },
   "file_extension": ".py",
   "mimetype": "text/x-python",
   "name": "python",
   "nbconvert_exporter": "python",
   "pygments_lexer": "ipython3",
   "version": "3.6.10"
  }
 },
 "nbformat": 4,
 "nbformat_minor": 2
}
