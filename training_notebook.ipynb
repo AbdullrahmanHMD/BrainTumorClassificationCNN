{
 "cells": [
  {
   "cell_type": "code",
   "execution_count": 56,
   "metadata": {
    "scrolled": true
   },
   "outputs": [
    {
     "name": "stdout",
     "output_type": "stream",
     "text": [
      "The autoreload extension is already loaded. To reload it, use:\n",
      "  %reload_ext autoreload\n"
     ]
    }
   ],
   "source": [
    "%load_ext autoreload\n",
    "%autoreload 2"
   ]
  },
  {
   "cell_type": "code",
   "execution_count": 57,
   "metadata": {},
   "outputs": [],
   "source": [
    "from data.bt_dataset import BrainTumorDataset\n",
    "from model2 import BrainTumorCNN\n",
    "from torch.utils.data import DataLoader, Subset\n",
    "import torchvision\n",
    "import torch\n",
    "import os\n",
    "import cv2\n",
    "from data.preprocessing import *\n",
    "from train import train\n",
    "from evaluate import evaluate\n",
    "from torch.optim.lr_scheduler import StepLR"
   ]
  },
  {
   "cell_type": "code",
   "execution_count": 58,
   "metadata": {},
   "outputs": [
    {
     "name": "stdout",
     "output_type": "stream",
     "text": [
      "Working on: GPU\n"
     ]
    }
   ],
   "source": [
    "if torch.cuda.is_available():\n",
    "    print(\"Working on: GPU\")\n",
    "    device = 'cuda'\n",
    "else:\n",
    "    print(\"Working on: CPU\")\n",
    "    device = 'cpu'"
   ]
  },
  {
   "cell_type": "markdown",
   "metadata": {},
   "source": [
    "### Defining constants:"
   ]
  },
  {
   "cell_type": "code",
   "execution_count": 59,
   "metadata": {},
   "outputs": [],
   "source": [
    "IMAGE_SIZE = 256\n",
    "NUM_OF_CLASSES = 4\n",
    "train_batch_size = test_batch_size = 64\n",
    "dataset_path = os.path.join(os.getcwd(), 'data')"
   ]
  },
  {
   "cell_type": "markdown",
   "metadata": {},
   "source": [
    "### Preprocessing:"
   ]
  },
  {
   "cell_type": "code",
   "execution_count": 60,
   "metadata": {},
   "outputs": [],
   "source": [
    "# Resizing the images and sharpening them:\n",
    "preprocessing_ops = [resize([IMAGE_SIZE, IMAGE_SIZE]), sharpen()]"
   ]
  },
  {
   "cell_type": "markdown",
   "metadata": {},
   "source": [
    "### Defining the dataset:"
   ]
  },
  {
   "cell_type": "code",
   "execution_count": 61,
   "metadata": {},
   "outputs": [],
   "source": [
    "# Defining the Dataset object:\n",
    "dataset = BrainTumorDataset(dataset_path=dataset_path, preprocessing=preprocessing_ops)\n",
    "\n",
    "# Defining the DataLoader object:\n",
    "train_loader = DataLoader(dataset, batch_size=train_batch_size)"
   ]
  },
  {
   "cell_type": "markdown",
   "metadata": {},
   "source": [
    "### Model specifications:"
   ]
  },
  {
   "cell_type": "code",
   "execution_count": 62,
   "metadata": {},
   "outputs": [],
   "source": [
    "model = BrainTumorCNN(number_of_classes=NUM_OF_CLASSES, image_size=IMAGE_SIZE)\n",
    "\n",
    "parameters = model.parameters()\n",
    "learning_rate = 1e-4\n",
    "weight_decay = 1e-1\n",
    "momentum = 0.9\n",
    "\n",
    "# Getting the class weights to apply weighted loss:\n",
    "class_weights = torch.tensor(dataset.class_weights).float().to(device)\n",
    "criterion = torch.nn.CrossEntropyLoss(weight=class_weights).to(device)\n",
    "optimizer = torch.optim.SGD(parameters, lr=learning_rate, momentum=momentum, weight_decay=weight_decay)"
   ]
  },
  {
   "cell_type": "code",
   "execution_count": 63,
   "metadata": {},
   "outputs": [],
   "source": [
    "scheduler = StepLR(optimizer, step_size=5, gamma=0.8)"
   ]
  },
  {
   "cell_type": "markdown",
   "metadata": {},
   "source": [
    "## Overfitting the model in order to test it"
   ]
  },
  {
   "cell_type": "code",
   "execution_count": 64,
   "metadata": {},
   "outputs": [],
   "source": [
    "overfitting_set_size = 15\n",
    "overfitting_set = Subset(dataset, list(range(overfitting_set_size)))\n",
    "overfitting_loader = DataLoader(overfitting_set)"
   ]
  },
  {
   "cell_type": "code",
   "execution_count": 65,
   "metadata": {},
   "outputs": [],
   "source": [
    "epochs = 5"
   ]
  },
  {
   "cell_type": "code",
   "execution_count": 66,
   "metadata": {
    "scrolled": false
   },
   "outputs": [
    {
     "name": "stderr",
     "output_type": "stream",
     "text": [
      "100%|██████████| 15/15 [00:00<00:00, 39.92it/s]\n"
     ]
    },
    {
     "name": "stdout",
     "output_type": "stream",
     "text": [
      "Evaluating epoch...\n",
      "Learning rate: 0.0001\n",
      "Epoch: 0 | Loss: 3.09\n",
      "Epoch: 0 took: 0.78 seconds\n"
     ]
    },
    {
     "name": "stderr",
     "output_type": "stream",
     "text": [
      "100%|██████████| 15/15 [00:00<00:00, 23.39it/s]\n"
     ]
    },
    {
     "name": "stdout",
     "output_type": "stream",
     "text": [
      "Evaluating epoch...\n",
      "Learning rate: 0.0001\n",
      "Epoch: 1 | Loss: 1.49\n",
      "Epoch: 1 took: 1.04 seconds\n"
     ]
    },
    {
     "name": "stderr",
     "output_type": "stream",
     "text": [
      "100%|██████████| 15/15 [00:00<00:00, 68.93it/s]\n"
     ]
    },
    {
     "name": "stdout",
     "output_type": "stream",
     "text": [
      "Evaluating epoch...\n",
      "Learning rate: 0.0001\n",
      "Epoch: 2 | Loss: 0.65\n",
      "Epoch: 2 took: 0.52 seconds\n"
     ]
    },
    {
     "name": "stderr",
     "output_type": "stream",
     "text": [
      "100%|██████████| 15/15 [00:00<00:00, 73.75it/s]\n"
     ]
    },
    {
     "name": "stdout",
     "output_type": "stream",
     "text": [
      "Evaluating epoch...\n",
      "Learning rate: 0.0001\n",
      "Epoch: 3 | Loss: 0.42\n",
      "Epoch: 3 took: 0.56 seconds\n"
     ]
    },
    {
     "name": "stderr",
     "output_type": "stream",
     "text": [
      "100%|██████████| 15/15 [00:00<00:00, 43.49it/s]\n"
     ]
    },
    {
     "name": "stdout",
     "output_type": "stream",
     "text": [
      "Evaluating epoch...\n",
      "Learning rate: 0.0001\n",
      "Epoch: 4 | Loss: 0.32\n",
      "Epoch: 4 took: 0.60 seconds\n"
     ]
    }
   ],
   "source": [
    "# scheduler = None\n",
    "total_loss, epoch_times, accuracies_train, _ = train(model=model, train_loader=overfitting_loader,\n",
    "                                                                   test_loader=overfitting_loader, optimizer=optimizer,\n",
    "                                                                   criterion=criterion, epochs=epochs, scheduler=scheduler)"
   ]
  },
  {
   "cell_type": "markdown",
   "metadata": {},
   "source": [
    "### Plotting the loss:"
   ]
  },
  {
   "cell_type": "code",
   "execution_count": 67,
   "metadata": {},
   "outputs": [],
   "source": [
    "import matplotlib.pyplot as plt"
   ]
  },
  {
   "cell_type": "code",
   "execution_count": 68,
   "metadata": {
    "scrolled": true
   },
   "outputs": [
    {
     "data": {
      "image/png": "[encoded data removed]",
      "text/plain": [
       "<Figure size 432x288 with 1 Axes>"
      ]
     },
     "metadata": {},
     "output_type": "display_data"
    }
   ],
   "source": [
    "plt.plot(total_loss)\n",
    "plt.show()"
   ]
  },
  {
   "cell_type": "markdown",
   "metadata": {},
   "source": [
    "### Plotting train accuracy:"
   ]
  },
  {
   "cell_type": "code",
   "execution_count": 69,
   "metadata": {
    "scrolled": true
   },
   "outputs": [
    {
     "data": {
      "image/png": "[encoded data removed]",
      "text/plain": [
       "<Figure size 432x288 with 1 Axes>"
      ]
     },
     "metadata": {},
     "output_type": "display_data"
    }
   ],
   "source": [
    "plt.plot(accuracies_train)\n",
    "plt.show()"
   ]
  },
  {
   "cell_type": "code",
   "execution_count": 70,
   "metadata": {},
   "outputs": [
    {
     "name": "stdout",
     "output_type": "stream",
     "text": [
      "Overfitting Accuracy: 100.00%\n"
     ]
    }
   ],
   "source": [
    "accuracy = evaluate(model=model, test_loader=overfitting_loader)\n",
    "print(f'Overfitting Accuracy: {accuracy:.2f}%')"
   ]
  },
  {
   "cell_type": "code",
   "execution_count": 98,
   "metadata": {},
   "outputs": [],
   "source": [
    "model = BrainTumorCNN(number_of_classes=NUM_OF_CLASSES, image_size=IMAGE_SIZE)\n",
    "\n",
    "parameters = model.parameters()\n",
    "learning_rate = 1e-5\n",
    "weight_decay = 1e-7\n",
    "momentum = 0.9\n",
    "\n",
    "# Getting the class weights to apply weighted loss:\n",
    "class_weights = torch.tensor(dataset.class_weights).float().to(device)\n",
    "criterion = torch.nn.CrossEntropyLoss(weight=class_weights).to(device)\n",
    "optimizer = torch.optim.SGD(parameters, lr=learning_rate, momentum=momentum, weight_decay=weight_decay)"
   ]
  },
  {
   "cell_type": "markdown",
   "metadata": {},
   "source": [
    "### Training the model"
   ]
  },
  {
   "cell_type": "code",
   "execution_count": 99,
   "metadata": {},
   "outputs": [],
   "source": [
    "# Defining the Dataset object:\n",
    "dataset = BrainTumorDataset(dataset_path=dataset_path, preprocessing=preprocessing_ops, test=True)\n",
    "\n",
    "# Defining the DataLoader object:\n",
    "test_loader = DataLoader(dataset, batch_size=train_batch_size)"
   ]
  },
  {
   "cell_type": "code",
   "execution_count": 100,
   "metadata": {},
   "outputs": [],
   "source": [
    "scheduler = StepLR(optimizer, step_size=2, gamma=1.2)"
   ]
  },
  {
   "cell_type": "code",
   "execution_count": 101,
   "metadata": {},
   "outputs": [],
   "source": [
    "epochs = 10"
   ]
  },
  {
   "cell_type": "code",
   "execution_count": 102,
   "metadata": {},
   "outputs": [
    {
     "name": "stderr",
     "output_type": "stream",
     "text": [
      "100%|██████████| 45/45 [00:19<00:00,  2.34it/s]\n"
     ]
    },
    {
     "name": "stdout",
     "output_type": "stream",
     "text": [
      "Evaluating epoch...\n",
      "Learning rate: 1e-05\n",
      "Epoch: 0 | Loss: 108.03\n",
      "Epoch: 0 took: 47.51 seconds\n"
     ]
    },
    {
     "name": "stderr",
     "output_type": "stream",
     "text": [
      "100%|██████████| 45/45 [00:17<00:00,  2.51it/s]\n"
     ]
    },
    {
     "name": "stdout",
     "output_type": "stream",
     "text": [
      "Evaluating epoch...\n",
      "Learning rate: 1e-05\n",
      "Epoch: 1 | Loss: 69.41\n",
      "Epoch: 1 took: 41.87 seconds\n"
     ]
    },
    {
     "name": "stderr",
     "output_type": "stream",
     "text": [
      "100%|██████████| 45/45 [00:18<00:00,  2.48it/s]\n"
     ]
    },
    {
     "name": "stdout",
     "output_type": "stream",
     "text": [
      "Evaluating epoch...\n",
      "Learning rate: 1.2e-05\n",
      "Epoch: 2 | Loss: 67.15\n",
      "Epoch: 2 took: 41.62 seconds\n"
     ]
    },
    {
     "name": "stderr",
     "output_type": "stream",
     "text": [
      "100%|██████████| 45/45 [00:19<00:00,  2.34it/s]\n"
     ]
    },
    {
     "name": "stdout",
     "output_type": "stream",
     "text": [
      "Evaluating epoch...\n",
      "Learning rate: 1.2e-05\n",
      "Epoch: 3 | Loss: 64.97\n",
      "Epoch: 3 took: 41.46 seconds\n"
     ]
    },
    {
     "name": "stderr",
     "output_type": "stream",
     "text": [
      "100%|██████████| 45/45 [00:18<00:00,  2.40it/s]\n"
     ]
    },
    {
     "name": "stdout",
     "output_type": "stream",
     "text": [
      "Evaluating epoch...\n",
      "Learning rate: 1.44e-05\n",
      "Epoch: 4 | Loss: 64.57\n",
      "Epoch: 4 took: 42.40 seconds\n"
     ]
    },
    {
     "name": "stderr",
     "output_type": "stream",
     "text": [
      "100%|██████████| 45/45 [00:18<00:00,  2.38it/s]\n"
     ]
    },
    {
     "name": "stdout",
     "output_type": "stream",
     "text": [
      "Evaluating epoch...\n",
      "Learning rate: 1.44e-05\n",
      "Epoch: 5 | Loss: 63.90\n",
      "Epoch: 5 took: 40.35 seconds\n"
     ]
    },
    {
     "name": "stderr",
     "output_type": "stream",
     "text": [
      "100%|██████████| 45/45 [00:18<00:00,  2.47it/s]\n"
     ]
    },
    {
     "name": "stdout",
     "output_type": "stream",
     "text": [
      "Evaluating epoch...\n",
      "Learning rate: 1.7279999999999997e-05\n",
      "Epoch: 6 | Loss: 64.22\n",
      "Epoch: 6 took: 42.08 seconds\n"
     ]
    },
    {
     "name": "stderr",
     "output_type": "stream",
     "text": [
      "100%|██████████| 45/45 [00:19<00:00,  2.26it/s]\n"
     ]
    },
    {
     "name": "stdout",
     "output_type": "stream",
     "text": [
      "Evaluating epoch...\n",
      "Learning rate: 1.7279999999999997e-05\n",
      "Epoch: 7 | Loss: 63.90\n",
      "Epoch: 7 took: 42.41 seconds\n"
     ]
    },
    {
     "name": "stderr",
     "output_type": "stream",
     "text": [
      "100%|██████████| 45/45 [00:18<00:00,  2.46it/s]\n"
     ]
    },
    {
     "name": "stdout",
     "output_type": "stream",
     "text": [
      "Evaluating epoch...\n",
      "Learning rate: 2.0735999999999996e-05\n",
      "Epoch: 8 | Loss: 64.45\n",
      "Epoch: 8 took: 41.76 seconds\n"
     ]
    },
    {
     "name": "stderr",
     "output_type": "stream",
     "text": [
      "100%|██████████| 45/45 [00:18<00:00,  2.48it/s]\n"
     ]
    },
    {
     "name": "stdout",
     "output_type": "stream",
     "text": [
      "Evaluating epoch...\n",
      "Learning rate: 2.0735999999999996e-05\n",
      "Epoch: 9 | Loss: 64.20\n",
      "Epoch: 9 took: 40.62 seconds\n"
     ]
    }
   ],
   "source": [
    "# scheduler = None\n",
    "total_loss, epoch_times, accuracies_train, accuracies_test = train(model=model, train_loader=train_loader,\n",
    "                                                                   test_loader=test_loader, optimizer=optimizer,\n",
    "                                                                   criterion=criterion, epochs=epochs, scheduler=scheduler)"
   ]
  },
  {
   "cell_type": "markdown",
   "metadata": {},
   "source": [
    "### Plotting the loss:"
   ]
  },
  {
   "cell_type": "code",
   "execution_count": 103,
   "metadata": {},
   "outputs": [
    {
     "data": {
      "image/png": "[encoded data removed]",
      "text/plain": [
       "<Figure size 432x288 with 1 Axes>"
      ]
     },
     "metadata": {},
     "output_type": "display_data"
    }
   ],
   "source": [
    "plt.plot(total_loss)\n",
    "plt.show()"
   ]
  },
  {
   "cell_type": "markdown",
   "metadata": {},
   "source": [
    "### Plotting train and test accuracies:"
   ]
  },
  {
   "cell_type": "code",
   "execution_count": 104,
   "metadata": {},
   "outputs": [
    {
     "data": {
      "image/png": "[encoded data removed]",
      "text/plain": [
       "<Figure size 432x288 with 1 Axes>"
      ]
     },
     "metadata": {},
     "output_type": "display_data"
    }
   ],
   "source": [
    "plt.plot(accuracies_train)\n",
    "plt.plot(accuracies_test)\n",
    "plt.show()"
   ]
  },
  {
   "cell_type": "markdown",
   "metadata": {},
   "source": [
    "### Evaluating the model:"
   ]
  },
  {
   "cell_type": "code",
   "execution_count": 105,
   "metadata": {},
   "outputs": [],
   "source": [
    "accuracy = evaluate(model=model, test_loader=test_loader)"
   ]
  },
  {
   "cell_type": "code",
   "execution_count": 106,
   "metadata": {},
   "outputs": [
    {
     "name": "stdout",
     "output_type": "stream",
     "text": [
      "Test Accuracy: 27.46%\n"
     ]
    }
   ],
   "source": [
    "print(f'Test Accuracy: {accuracy:.2f}%')"
   ]
  },
  {
   "cell_type": "code",
   "execution_count": 107,
   "metadata": {},
   "outputs": [],
   "source": [
    "accuracy = evaluate(model=model, test_loader=train_loader)"
   ]
  },
  {
   "cell_type": "code",
   "execution_count": 108,
   "metadata": {},
   "outputs": [
    {
     "name": "stdout",
     "output_type": "stream",
     "text": [
      "Train Accuracy: 32.15%\n"
     ]
    }
   ],
   "source": [
    "print(f'Train Accuracy: {accuracy:.2f}%')"
   ]
  }
 ],
 "metadata": {
  "kernelspec": {
   "display_name": "pc_transformer",
   "language": "python",
   "name": "pc_transformer"
  },
  "language_info": {
   "codemirror_mode": {
    "name": "ipython",
    "version": 3
   },
   "file_extension": ".py",
   "mimetype": "text/x-python",
   "name": "python",
   "nbconvert_exporter": "python",
   "pygments_lexer": "ipython3",
   "version": "3.6.10"
  }
 },
 "nbformat": 4,
 "nbformat_minor": 4
}
